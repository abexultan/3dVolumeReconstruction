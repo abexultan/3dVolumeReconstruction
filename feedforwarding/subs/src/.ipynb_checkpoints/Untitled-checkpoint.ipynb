{
 "cells": [
  {
   "cell_type": "code",
   "execution_count": 2,
   "metadata": {},
   "outputs": [
    {
     "ename": "ImportError",
     "evalue": "cannot import name np",
     "output_type": "error",
     "traceback": [
      "\u001b[0;31m---------------------------------------------------------------------------\u001b[0m",
      "\u001b[0;31mImportError\u001b[0m                               Traceback (most recent call last)",
      "\u001b[0;32m<ipython-input-2-b4de947bb296>\u001b[0m in \u001b[0;36m<module>\u001b[0;34m()\u001b[0m\n\u001b[1;32m      2\u001b[0m \u001b[0;32mimport\u001b[0m \u001b[0mrospy\u001b[0m\u001b[0;34m\u001b[0m\u001b[0m\n\u001b[1;32m      3\u001b[0m \u001b[0;32mfrom\u001b[0m \u001b[0mstd_msgs\u001b[0m\u001b[0;34m.\u001b[0m\u001b[0mmsg\u001b[0m \u001b[0;32mimport\u001b[0m \u001b[0mInt16MultiArray\u001b[0m\u001b[0;34m\u001b[0m\u001b[0m\n\u001b[0;32m----> 4\u001b[0;31m \u001b[0;32mfrom\u001b[0m \u001b[0mopen3d\u001b[0m \u001b[0;32mimport\u001b[0m \u001b[0mnp\u001b[0m\u001b[0;34m,\u001b[0m \u001b[0mPointCloud\u001b[0m\u001b[0;34m,\u001b[0m \u001b[0mVector3dVector\u001b[0m\u001b[0;34m,\u001b[0m \u001b[0mdraw_geometries\u001b[0m\u001b[0;34m\u001b[0m\u001b[0m\n\u001b[0m\u001b[1;32m      5\u001b[0m \u001b[0;34m\u001b[0m\u001b[0m\n\u001b[1;32m      6\u001b[0m \u001b[0;32mdef\u001b[0m \u001b[0mfromGridToPLY\u001b[0m\u001b[0;34m(\u001b[0m\u001b[0mgrid\u001b[0m\u001b[0;34m)\u001b[0m\u001b[0;34m:\u001b[0m\u001b[0;34m\u001b[0m\u001b[0m\n",
      "\u001b[0;31mImportError\u001b[0m: cannot import name np"
     ]
    }
   ],
   "source": [
    "#!/usr/bin/env python\n",
    "import rospy\n",
    "from std_msgs.msg import Int16MultiArray\n",
    "from open3d import PointCloud, Vector3dVector, draw_geometries\n",
    "import numpy as np\n",
    "\n",
    "def fromGridToPLY(grid):\n",
    "    grid = (grid>0.5)\n",
    "    ind = 0\n",
    "    counter = 0\n",
    "    for i in range(grid.shape[0]):\n",
    "        for j in range(grid.shape[1]):\n",
    "            for k in range(grid.shape[2]):\n",
    "                if(grid[i,j,k]==1):\n",
    "                    counter = counter + 1\n",
    "                    print(\"Poop\")\n",
    "    xyz = np.zeros((counter,3))\n",
    "    for i in range(grid.shape[0]):\n",
    "        for j in range(grid.shape[1]):\n",
    "            for k in range(grid.shape[2]):\n",
    "                if(grid[i,j,k]==1):\n",
    "                    xyz[ind, :] = (i,j,k)\n",
    "                    ind = ind + 1\n",
    "                else:\n",
    "                    continue\n",
    "    pcd = PointCloud()\n",
    "    pcd.points = Vector3dVector(xyz)\n",
    "    return pcd\n",
    "\n",
    "def callback(data):\n",
    "    grid = np.zeros(64,64,64)\n",
    "    for i in range(data.data.shape[0]):\n",
    "        if(data.data[i]==1):\n",
    "            x=int(floor((i/64)/64))\n",
    "            y=int(floor((i-x*64*64)/64))\n",
    "            z=int(floor(i-x*64*64-y*64))\n",
    "            grid[x,y,z]=1\n",
    "\n",
    "    pcl = fromGridToPLY(grid)\n",
    "    draw_geometries([pcl])\n",
    "def listener():\n",
    "\n",
    "    # In ROS, nodes are uniquely named. If two nodes with the same\n",
    "    # name are launched, the previous one is kicked off. The\n",
    "    # anonymous=True flag means that rospy will choose a unique\n",
    "    # name for our 'listener' node so that multiple listeners can\n",
    "    # run simultaneously.\n",
    "    rospy.init_node('listener', anonymous=True)\n",
    "\n",
    "    rospy.Subscriber(\"matrix_pub\", Int16MultiArray, callback)\n",
    "\n",
    "    # spin() simply keeps python from exiting until this node is stopped\n",
    "    rospy.spinOnce()\n",
    "\n",
    "if __name__ == '__main__':\n",
    "    listener()"
   ]
  },
  {
   "cell_type": "code",
   "execution_count": null,
   "metadata": {},
   "outputs": [],
   "source": []
  }
 ],
 "metadata": {
  "kernelspec": {
   "display_name": "Python 2",
   "language": "python",
   "name": "python2"
  },
  "language_info": {
   "codemirror_mode": {
    "name": "ipython",
    "version": 2
   },
   "file_extension": ".py",
   "mimetype": "text/x-python",
   "name": "python",
   "nbconvert_exporter": "python",
   "pygments_lexer": "ipython2",
   "version": "2.7.12"
  }
 },
 "nbformat": 4,
 "nbformat_minor": 2
}
